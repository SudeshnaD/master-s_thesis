{
 "cells": [
  {
   "cell_type": "code",
   "execution_count": 4,
   "metadata": {},
   "outputs": [],
   "source": [
    "import pandas as pd"
   ]
  },
  {
   "cell_type": "code",
   "execution_count": 1,
   "metadata": {},
   "outputs": [],
   "source": [
    "ABAE={10: [-316.2898676248057, -1366.1671517855555, -3165.932395155212, -5706.228832213605, -8981.89351127607],\n",
    "20: [-330.2213440847883, -1391.4939734739728, -3185.4765921456355, -5705.618345247109, -8968.96078570386],\n",
    "30: [-330.3010545201215, -1401.497862626431, -3211.611369161592, -5747.891377217939, -9014.331037886828],\n",
    "40: [-328.1811026031471, -1397.5519698190578, -3205.4874365048154, -5748.059027485698, -9025.593989862333],\n",
    "50: [-332.2760405400623, -1404.1958152724137, -3214.549656159489, -5758.930765312361, -9034.509962178496]}\n",
    "\n",
    "Kmeans={10: [-331.02627049140636, -1405.9919425933772, -3229.3883465740755, -5812.1366310150515, -9155.901891562004],\n",
    "20: [-337.9412918537315, -1432.481372594832, -3286.7174282930137, -5909.787743365002, -9293.808724400706],\n",
    "30: [-340.44794463943094, -1436.3525859139613, -3293.47295542337, -5903.696019264202, -9266.842684200854],\n",
    "40: [-342.43938458741593, -1445.4788761854484, -3313.872896882322, -5942.696785205898, -9335.648627505903],\n",
    "50: [-342.01242154290924, -1443.1699954978728, -3308.270229380677, -5931.8840613429165, -9316.117999693997]}\n",
    "\n",
    "SACSA={10: [-307.66102321310757, -1327.684356858986, -3050.703695503769, -5454.110376077779, -8594.806501102266],\n",
    "20: [-322.05372547865096, -1364.9012520467697, -3128.7217763860253, -5608.479509665333, -8806.501911678139],\n",
    "30: [-323.2545280700275, -1376.9407656912038, -3166.864197603489, -5687.94229616223, -8941.517573406718],\n",
    "40: [-326.0398177120925, -1389.5757859291186, -3186.9053689474204, -5705.520068775544, -8956.977491464206],\n",
    "50: [-328.9234299481151, -1393.4888789222255, -3196.366030411101, -5729.234151400984, -9003.599375661515]}\n",
    "\n",
    "SA={10: [-314.37138598024615, -1348.0094284485785, -3097.842200445184, -5562.642153500624, -8739.984103463703],\n",
    "20: [-318.12366406675744, -1342.6029126811234, -3077.316418558564, -5529.345796850571, -8700.869889169517],\n",
    "30: [-315.08626013732066, -1354.822937908361, -3109.300529992962, -5593.461138013444, -8781.032730215096],\n",
    "40: [-320.9759230112948, -1369.1874804012023, -3145.143022652337, -5653.439063932882, -8877.605769022142],\n",
    "50: [-326.13086238403173, -1379.8911940750459, -3158.227170796813, -5662.407399447657, -8900.457132085128]}"
   ]
  },
  {
   "cell_type": "code",
   "execution_count": 2,
   "metadata": {},
   "outputs": [
    {
     "data": {
      "text/plain": [
       "[10, 20, 30, 40, 50]"
      ]
     },
     "execution_count": 2,
     "metadata": {},
     "output_type": "execute_result"
    }
   ],
   "source": [
    "list(ABAE.keys())"
   ]
  },
  {
   "cell_type": "markdown",
   "metadata": {},
   "source": [
    "## Modelwise visualization"
   ]
  },
  {
   "cell_type": "code",
   "execution_count": 19,
   "metadata": {},
   "outputs": [
    {
     "data": {
      "text/html": [
       "<div>\n",
       "<style scoped>\n",
       "    .dataframe tbody tr th:only-of-type {\n",
       "        vertical-align: middle;\n",
       "    }\n",
       "\n",
       "    .dataframe tbody tr th {\n",
       "        vertical-align: top;\n",
       "    }\n",
       "\n",
       "    .dataframe thead th {\n",
       "        text-align: right;\n",
       "    }\n",
       "</style>\n",
       "<table border=\"1\" class=\"dataframe\">\n",
       "  <thead>\n",
       "    <tr style=\"text-align: right;\">\n",
       "      <th></th>\n",
       "      <th>10</th>\n",
       "      <th>20</th>\n",
       "      <th>30</th>\n",
       "      <th>40</th>\n",
       "      <th>50</th>\n",
       "      <th>N</th>\n",
       "    </tr>\n",
       "  </thead>\n",
       "  <tbody>\n",
       "    <tr>\n",
       "      <th>0</th>\n",
       "      <td>-316.289868</td>\n",
       "      <td>-330.221344</td>\n",
       "      <td>-330.301055</td>\n",
       "      <td>-328.181103</td>\n",
       "      <td>-332.276041</td>\n",
       "      <td>10</td>\n",
       "    </tr>\n",
       "    <tr>\n",
       "      <th>1</th>\n",
       "      <td>-1366.167152</td>\n",
       "      <td>-1391.493973</td>\n",
       "      <td>-1401.497863</td>\n",
       "      <td>-1397.551970</td>\n",
       "      <td>-1404.195815</td>\n",
       "      <td>20</td>\n",
       "    </tr>\n",
       "    <tr>\n",
       "      <th>2</th>\n",
       "      <td>-3165.932395</td>\n",
       "      <td>-3185.476592</td>\n",
       "      <td>-3211.611369</td>\n",
       "      <td>-3205.487437</td>\n",
       "      <td>-3214.549656</td>\n",
       "      <td>30</td>\n",
       "    </tr>\n",
       "    <tr>\n",
       "      <th>3</th>\n",
       "      <td>-5706.228832</td>\n",
       "      <td>-5705.618345</td>\n",
       "      <td>-5747.891377</td>\n",
       "      <td>-5748.059027</td>\n",
       "      <td>-5758.930765</td>\n",
       "      <td>40</td>\n",
       "    </tr>\n",
       "    <tr>\n",
       "      <th>4</th>\n",
       "      <td>-8981.893511</td>\n",
       "      <td>-8968.960786</td>\n",
       "      <td>-9014.331038</td>\n",
       "      <td>-9025.593990</td>\n",
       "      <td>-9034.509962</td>\n",
       "      <td>50</td>\n",
       "    </tr>\n",
       "  </tbody>\n",
       "</table>\n",
       "</div>"
      ],
      "text/plain": [
       "            10           20           30           40           50   N\n",
       "0  -316.289868  -330.221344  -330.301055  -328.181103  -332.276041  10\n",
       "1 -1366.167152 -1391.493973 -1401.497863 -1397.551970 -1404.195815  20\n",
       "2 -3165.932395 -3185.476592 -3211.611369 -3205.487437 -3214.549656  30\n",
       "3 -5706.228832 -5705.618345 -5747.891377 -5748.059027 -5758.930765  40\n",
       "4 -8981.893511 -8968.960786 -9014.331038 -9025.593990 -9034.509962  50"
      ]
     },
     "execution_count": 19,
     "metadata": {},
     "output_type": "execute_result"
    }
   ],
   "source": [
    "abaedf=pd.DataFrame(ABAE)\n",
    "#abaedft=abaedf.T\n",
    "abaedf.columns=list(ABAE.keys())\n",
    "abaedf['N']=N\n",
    "abaedf"
   ]
  },
  {
   "cell_type": "code",
   "execution_count": 20,
   "metadata": {},
   "outputs": [
    {
     "data": {
      "image/png": "[encoded data removed]",
      "text/plain": [
       "<Figure size 432x288 with 1 Axes>"
      ]
     },
     "metadata": {
      "needs_background": "light"
     },
     "output_type": "display_data"
    }
   ],
   "source": [
    "fig, ax = plt.subplots()\n",
    "abaedf.plot(kind='line',x='N',y=10,style='cs--', ax=ax)\n",
    "abaedf.plot(kind='line',x='N',y=20,style='bs--', ax=ax)\n",
    "abaedf.plot(kind='line',x='N',y=30,style='gs--', ax=ax)\n",
    "abaedf.plot(kind='line',x='N',y=40,style='ms--', ax=ax)\n",
    "abaedf.plot(kind='line',x='N',y=50,style='rs--', ax=ax)\n",
    "plt.xlabel('Top N words')\n",
    "plt.ylabel('Coherence Score')\n",
    "plt.title('ABAE')\n",
    "plt.legend()\n",
    "plt.show()"
   ]
  },
  {
   "cell_type": "code",
   "execution_count": 21,
   "metadata": {},
   "outputs": [
    {
     "data": {
      "text/html": [
       "<div>\n",
       "<style scoped>\n",
       "    .dataframe tbody tr th:only-of-type {\n",
       "        vertical-align: middle;\n",
       "    }\n",
       "\n",
       "    .dataframe tbody tr th {\n",
       "        vertical-align: top;\n",
       "    }\n",
       "\n",
       "    .dataframe thead th {\n",
       "        text-align: right;\n",
       "    }\n",
       "</style>\n",
       "<table border=\"1\" class=\"dataframe\">\n",
       "  <thead>\n",
       "    <tr style=\"text-align: right;\">\n",
       "      <th></th>\n",
       "      <th>10</th>\n",
       "      <th>20</th>\n",
       "      <th>30</th>\n",
       "      <th>40</th>\n",
       "      <th>50</th>\n",
       "      <th>N</th>\n",
       "    </tr>\n",
       "  </thead>\n",
       "  <tbody>\n",
       "    <tr>\n",
       "      <th>0</th>\n",
       "      <td>-331.026270</td>\n",
       "      <td>-337.941292</td>\n",
       "      <td>-340.447945</td>\n",
       "      <td>-342.439385</td>\n",
       "      <td>-342.012422</td>\n",
       "      <td>10</td>\n",
       "    </tr>\n",
       "    <tr>\n",
       "      <th>1</th>\n",
       "      <td>-1405.991943</td>\n",
       "      <td>-1432.481373</td>\n",
       "      <td>-1436.352586</td>\n",
       "      <td>-1445.478876</td>\n",
       "      <td>-1443.169995</td>\n",
       "      <td>20</td>\n",
       "    </tr>\n",
       "    <tr>\n",
       "      <th>2</th>\n",
       "      <td>-3229.388347</td>\n",
       "      <td>-3286.717428</td>\n",
       "      <td>-3293.472955</td>\n",
       "      <td>-3313.872897</td>\n",
       "      <td>-3308.270229</td>\n",
       "      <td>30</td>\n",
       "    </tr>\n",
       "    <tr>\n",
       "      <th>3</th>\n",
       "      <td>-5812.136631</td>\n",
       "      <td>-5909.787743</td>\n",
       "      <td>-5903.696019</td>\n",
       "      <td>-5942.696785</td>\n",
       "      <td>-5931.884061</td>\n",
       "      <td>40</td>\n",
       "    </tr>\n",
       "    <tr>\n",
       "      <th>4</th>\n",
       "      <td>-9155.901892</td>\n",
       "      <td>-9293.808724</td>\n",
       "      <td>-9266.842684</td>\n",
       "      <td>-9335.648628</td>\n",
       "      <td>-9316.118000</td>\n",
       "      <td>50</td>\n",
       "    </tr>\n",
       "  </tbody>\n",
       "</table>\n",
       "</div>"
      ],
      "text/plain": [
       "            10           20           30           40           50   N\n",
       "0  -331.026270  -337.941292  -340.447945  -342.439385  -342.012422  10\n",
       "1 -1405.991943 -1432.481373 -1436.352586 -1445.478876 -1443.169995  20\n",
       "2 -3229.388347 -3286.717428 -3293.472955 -3313.872897 -3308.270229  30\n",
       "3 -5812.136631 -5909.787743 -5903.696019 -5942.696785 -5931.884061  40\n",
       "4 -9155.901892 -9293.808724 -9266.842684 -9335.648628 -9316.118000  50"
      ]
     },
     "execution_count": 21,
     "metadata": {},
     "output_type": "execute_result"
    }
   ],
   "source": [
    "Kmeansdf=pd.DataFrame(Kmeans)\n",
    "#abaedft=abaedf.T\n",
    "Kmeansdf.columns=list(Kmeans.keys())\n",
    "Kmeansdf['N']=N\n",
    "Kmeansdf"
   ]
  },
  {
   "cell_type": "code",
   "execution_count": 22,
   "metadata": {},
   "outputs": [
    {
     "data": {
      "image/png": "[encoded data removed]",
      "text/plain": [
       "<Figure size 432x288 with 1 Axes>"
      ]
     },
     "metadata": {
      "needs_background": "light"
     },
     "output_type": "display_data"
    }
   ],
   "source": [
    "fig, ax = plt.subplots()\n",
    "Kmeansdf.plot(kind='line',x='N',y=10,style='cs--', ax=ax)\n",
    "Kmeansdf.plot(kind='line',x='N',y=20,style='bs--', ax=ax)\n",
    "Kmeansdf.plot(kind='line',x='N',y=30,style='gs--', ax=ax)\n",
    "Kmeansdf.plot(kind='line',x='N',y=40,style='ms--', ax=ax)\n",
    "Kmeansdf.plot(kind='line',x='N',y=50,style='rs--', ax=ax)\n",
    "plt.xlabel('Top N words')\n",
    "plt.ylabel('Coherence Score')\n",
    "plt.title('Kmeans')\n",
    "plt.legend()\n",
    "plt.show()"
   ]
  },
  {
   "cell_type": "code",
   "execution_count": 23,
   "metadata": {},
   "outputs": [
    {
     "data": {
      "text/html": [
       "<div>\n",
       "<style scoped>\n",
       "    .dataframe tbody tr th:only-of-type {\n",
       "        vertical-align: middle;\n",
       "    }\n",
       "\n",
       "    .dataframe tbody tr th {\n",
       "        vertical-align: top;\n",
       "    }\n",
       "\n",
       "    .dataframe thead th {\n",
       "        text-align: right;\n",
       "    }\n",
       "</style>\n",
       "<table border=\"1\" class=\"dataframe\">\n",
       "  <thead>\n",
       "    <tr style=\"text-align: right;\">\n",
       "      <th></th>\n",
       "      <th>10</th>\n",
       "      <th>20</th>\n",
       "      <th>30</th>\n",
       "      <th>40</th>\n",
       "      <th>50</th>\n",
       "      <th>N</th>\n",
       "    </tr>\n",
       "  </thead>\n",
       "  <tbody>\n",
       "    <tr>\n",
       "      <th>0</th>\n",
       "      <td>-314.371386</td>\n",
       "      <td>-318.123664</td>\n",
       "      <td>-315.086260</td>\n",
       "      <td>-320.975923</td>\n",
       "      <td>-326.130862</td>\n",
       "      <td>10</td>\n",
       "    </tr>\n",
       "    <tr>\n",
       "      <th>1</th>\n",
       "      <td>-1348.009428</td>\n",
       "      <td>-1342.602913</td>\n",
       "      <td>-1354.822938</td>\n",
       "      <td>-1369.187480</td>\n",
       "      <td>-1379.891194</td>\n",
       "      <td>20</td>\n",
       "    </tr>\n",
       "    <tr>\n",
       "      <th>2</th>\n",
       "      <td>-3097.842200</td>\n",
       "      <td>-3077.316419</td>\n",
       "      <td>-3109.300530</td>\n",
       "      <td>-3145.143023</td>\n",
       "      <td>-3158.227171</td>\n",
       "      <td>30</td>\n",
       "    </tr>\n",
       "    <tr>\n",
       "      <th>3</th>\n",
       "      <td>-5562.642154</td>\n",
       "      <td>-5529.345797</td>\n",
       "      <td>-5593.461138</td>\n",
       "      <td>-5653.439064</td>\n",
       "      <td>-5662.407399</td>\n",
       "      <td>40</td>\n",
       "    </tr>\n",
       "    <tr>\n",
       "      <th>4</th>\n",
       "      <td>-8739.984103</td>\n",
       "      <td>-8700.869889</td>\n",
       "      <td>-8781.032730</td>\n",
       "      <td>-8877.605769</td>\n",
       "      <td>-8900.457132</td>\n",
       "      <td>50</td>\n",
       "    </tr>\n",
       "  </tbody>\n",
       "</table>\n",
       "</div>"
      ],
      "text/plain": [
       "            10           20           30           40           50   N\n",
       "0  -314.371386  -318.123664  -315.086260  -320.975923  -326.130862  10\n",
       "1 -1348.009428 -1342.602913 -1354.822938 -1369.187480 -1379.891194  20\n",
       "2 -3097.842200 -3077.316419 -3109.300530 -3145.143023 -3158.227171  30\n",
       "3 -5562.642154 -5529.345797 -5593.461138 -5653.439064 -5662.407399  40\n",
       "4 -8739.984103 -8700.869889 -8781.032730 -8877.605769 -8900.457132  50"
      ]
     },
     "execution_count": 23,
     "metadata": {},
     "output_type": "execute_result"
    }
   ],
   "source": [
    "SAdf=pd.DataFrame(SA)\n",
    "#abaedft=abaedf.T\n",
    "SAdf.columns=list(SA.keys())\n",
    "SAdf['N']=N\n",
    "SAdf"
   ]
  },
  {
   "cell_type": "code",
   "execution_count": 24,
   "metadata": {},
   "outputs": [
    {
     "data": {
      "image/png": "[encoded data removed]",
      "text/plain": [
       "<Figure size 432x288 with 1 Axes>"
      ]
     },
     "metadata": {
      "needs_background": "light"
     },
     "output_type": "display_data"
    }
   ],
   "source": [
    "fig, ax = plt.subplots()\n",
    "SAdf.plot(kind='line',x='N',y=10,style='cs--', ax=ax)\n",
    "SAdf.plot(kind='line',x='N',y=20,style='bs--', ax=ax)\n",
    "SAdf.plot(kind='line',x='N',y=30,style='gs--', ax=ax)\n",
    "SAdf.plot(kind='line',x='N',y=40,style='ms--', ax=ax)\n",
    "SAdf.plot(kind='line',x='N',y=50,style='rs--', ax=ax)\n",
    "plt.xlabel('Top N words')\n",
    "plt.ylabel('Coherence Score')\n",
    "plt.title('Sememe Attention')\n",
    "plt.legend()\n",
    "plt.show()"
   ]
  },
  {
   "cell_type": "code",
   "execution_count": 25,
   "metadata": {},
   "outputs": [
    {
     "data": {
      "text/html": [
       "<div>\n",
       "<style scoped>\n",
       "    .dataframe tbody tr th:only-of-type {\n",
       "        vertical-align: middle;\n",
       "    }\n",
       "\n",
       "    .dataframe tbody tr th {\n",
       "        vertical-align: top;\n",
       "    }\n",
       "\n",
       "    .dataframe thead th {\n",
       "        text-align: right;\n",
       "    }\n",
       "</style>\n",
       "<table border=\"1\" class=\"dataframe\">\n",
       "  <thead>\n",
       "    <tr style=\"text-align: right;\">\n",
       "      <th></th>\n",
       "      <th>10</th>\n",
       "      <th>20</th>\n",
       "      <th>30</th>\n",
       "      <th>40</th>\n",
       "      <th>50</th>\n",
       "      <th>N</th>\n",
       "    </tr>\n",
       "  </thead>\n",
       "  <tbody>\n",
       "    <tr>\n",
       "      <th>0</th>\n",
       "      <td>-307.661023</td>\n",
       "      <td>-322.053725</td>\n",
       "      <td>-323.254528</td>\n",
       "      <td>-326.039818</td>\n",
       "      <td>-328.923430</td>\n",
       "      <td>10</td>\n",
       "    </tr>\n",
       "    <tr>\n",
       "      <th>1</th>\n",
       "      <td>-1327.684357</td>\n",
       "      <td>-1364.901252</td>\n",
       "      <td>-1376.940766</td>\n",
       "      <td>-1389.575786</td>\n",
       "      <td>-1393.488879</td>\n",
       "      <td>20</td>\n",
       "    </tr>\n",
       "    <tr>\n",
       "      <th>2</th>\n",
       "      <td>-3050.703696</td>\n",
       "      <td>-3128.721776</td>\n",
       "      <td>-3166.864198</td>\n",
       "      <td>-3186.905369</td>\n",
       "      <td>-3196.366030</td>\n",
       "      <td>30</td>\n",
       "    </tr>\n",
       "    <tr>\n",
       "      <th>3</th>\n",
       "      <td>-5454.110376</td>\n",
       "      <td>-5608.479510</td>\n",
       "      <td>-5687.942296</td>\n",
       "      <td>-5705.520069</td>\n",
       "      <td>-5729.234151</td>\n",
       "      <td>40</td>\n",
       "    </tr>\n",
       "    <tr>\n",
       "      <th>4</th>\n",
       "      <td>-8594.806501</td>\n",
       "      <td>-8806.501912</td>\n",
       "      <td>-8941.517573</td>\n",
       "      <td>-8956.977491</td>\n",
       "      <td>-9003.599376</td>\n",
       "      <td>50</td>\n",
       "    </tr>\n",
       "  </tbody>\n",
       "</table>\n",
       "</div>"
      ],
      "text/plain": [
       "            10           20           30           40           50   N\n",
       "0  -307.661023  -322.053725  -323.254528  -326.039818  -328.923430  10\n",
       "1 -1327.684357 -1364.901252 -1376.940766 -1389.575786 -1393.488879  20\n",
       "2 -3050.703696 -3128.721776 -3166.864198 -3186.905369 -3196.366030  30\n",
       "3 -5454.110376 -5608.479510 -5687.942296 -5705.520069 -5729.234151  40\n",
       "4 -8594.806501 -8806.501912 -8941.517573 -8956.977491 -9003.599376  50"
      ]
     },
     "execution_count": 25,
     "metadata": {},
     "output_type": "execute_result"
    }
   ],
   "source": [
    "SACSAdf=pd.DataFrame(SACSA)\n",
    "#abaedft=abaedf.T\n",
    "SACSAdf.columns=list(SACSA.keys())\n",
    "SACSAdf['N']=N\n",
    "SACSAdf"
   ]
  },
  {
   "cell_type": "code",
   "execution_count": 26,
   "metadata": {},
   "outputs": [
    {
     "data": {
      "image/png": "[encoded data removed]",
      "text/plain": [
       "<Figure size 432x288 with 1 Axes>"
      ]
     },
     "metadata": {
      "needs_background": "light"
     },
     "output_type": "display_data"
    }
   ],
   "source": [
    "fig, ax = plt.subplots()\n",
    "SACSAdf.plot(kind='line',x='N',y=10,style='cs--', ax=ax)\n",
    "SACSAdf.plot(kind='line',x='N',y=20,style='bs--', ax=ax)\n",
    "SACSAdf.plot(kind='line',x='N',y=30,style='gs--', ax=ax)\n",
    "SACSAdf.plot(kind='line',x='N',y=40,style='ms--', ax=ax)\n",
    "SACSAdf.plot(kind='line',x='N',y=50,style='rs--', ax=ax)\n",
    "plt.xlabel('Top N words')\n",
    "plt.ylabel('Coherence Score')\n",
    "plt.title('SA-CSA')\n",
    "plt.legend()\n",
    "plt.show()"
   ]
  },
  {
   "cell_type": "markdown",
   "metadata": {},
   "source": [
    "## Aspectwise visualization"
   ]
  },
  {
   "cell_type": "code",
   "execution_count": 6,
   "metadata": {},
   "outputs": [],
   "source": [
    "K10=[list(d.values())[0] for d in [ABAE,Kmeans,SA,SACSA]]\n",
    "K20=[list(d.values())[1] for d in [ABAE,Kmeans,SA,SACSA]]\n",
    "K30=[list(d.values())[2] for d in [ABAE,Kmeans,SA,SACSA]]\n",
    "K40=[list(d.values())[3] for d in [ABAE,Kmeans,SA,SACSA]]\n",
    "K50=[list(d.values())[4] for d in [ABAE,Kmeans,SA,SACSA]]\n"
   ]
  },
  {
   "cell_type": "code",
   "execution_count": 7,
   "metadata": {},
   "outputs": [],
   "source": [
    "N=[10,20,30,40,50]\n",
    "Model=['ABAE','Kmeans','SA','SACSA']"
   ]
  },
  {
   "cell_type": "code",
   "execution_count": 8,
   "metadata": {},
   "outputs": [],
   "source": [
    "df=pd.DataFrame(K10,columns=N)\n",
    "dft=df.T\n",
    "dft.columns=Model"
   ]
  },
  {
   "cell_type": "code",
   "execution_count": 9,
   "metadata": {},
   "outputs": [
    {
     "data": {
      "text/html": [
       "<div>\n",
       "<style scoped>\n",
       "    .dataframe tbody tr th:only-of-type {\n",
       "        vertical-align: middle;\n",
       "    }\n",
       "\n",
       "    .dataframe tbody tr th {\n",
       "        vertical-align: top;\n",
       "    }\n",
       "\n",
       "    .dataframe thead th {\n",
       "        text-align: right;\n",
       "    }\n",
       "</style>\n",
       "<table border=\"1\" class=\"dataframe\">\n",
       "  <thead>\n",
       "    <tr style=\"text-align: right;\">\n",
       "      <th></th>\n",
       "      <th>ABAE</th>\n",
       "      <th>Kmeans</th>\n",
       "      <th>SA</th>\n",
       "      <th>SACSA</th>\n",
       "      <th>N</th>\n",
       "    </tr>\n",
       "  </thead>\n",
       "  <tbody>\n",
       "    <tr>\n",
       "      <th>10</th>\n",
       "      <td>-316.289868</td>\n",
       "      <td>-331.026270</td>\n",
       "      <td>-314.371386</td>\n",
       "      <td>-307.661023</td>\n",
       "      <td>10</td>\n",
       "    </tr>\n",
       "    <tr>\n",
       "      <th>20</th>\n",
       "      <td>-1366.167152</td>\n",
       "      <td>-1405.991943</td>\n",
       "      <td>-1348.009428</td>\n",
       "      <td>-1327.684357</td>\n",
       "      <td>20</td>\n",
       "    </tr>\n",
       "    <tr>\n",
       "      <th>30</th>\n",
       "      <td>-3165.932395</td>\n",
       "      <td>-3229.388347</td>\n",
       "      <td>-3097.842200</td>\n",
       "      <td>-3050.703696</td>\n",
       "      <td>30</td>\n",
       "    </tr>\n",
       "    <tr>\n",
       "      <th>40</th>\n",
       "      <td>-5706.228832</td>\n",
       "      <td>-5812.136631</td>\n",
       "      <td>-5562.642154</td>\n",
       "      <td>-5454.110376</td>\n",
       "      <td>40</td>\n",
       "    </tr>\n",
       "    <tr>\n",
       "      <th>50</th>\n",
       "      <td>-8981.893511</td>\n",
       "      <td>-9155.901892</td>\n",
       "      <td>-8739.984103</td>\n",
       "      <td>-8594.806501</td>\n",
       "      <td>50</td>\n",
       "    </tr>\n",
       "  </tbody>\n",
       "</table>\n",
       "</div>"
      ],
      "text/plain": [
       "           ABAE       Kmeans           SA        SACSA   N\n",
       "10  -316.289868  -331.026270  -314.371386  -307.661023  10\n",
       "20 -1366.167152 -1405.991943 -1348.009428 -1327.684357  20\n",
       "30 -3165.932395 -3229.388347 -3097.842200 -3050.703696  30\n",
       "40 -5706.228832 -5812.136631 -5562.642154 -5454.110376  40\n",
       "50 -8981.893511 -9155.901892 -8739.984103 -8594.806501  50"
      ]
     },
     "execution_count": 9,
     "metadata": {},
     "output_type": "execute_result"
    }
   ],
   "source": [
    "dft['N']=N\n",
    "dft"
   ]
  },
  {
   "cell_type": "code",
   "execution_count": 10,
   "metadata": {},
   "outputs": [
    {
     "data": {
      "image/png": "[encoded data removed]",
      "text/plain": [
       "<Figure size 432x288 with 1 Axes>"
      ]
     },
     "metadata": {
      "needs_background": "light"
     },
     "output_type": "display_data"
    }
   ],
   "source": [
    "import numpy as np\n",
    "import matplotlib.pyplot as plt\n",
    "import pandas as pd\n",
    "\n",
    "styles1 = ['bs-','ro-','y^-']\n",
    "styles2 = ['rs-','go-','b^-']\n",
    "fig, ax = plt.subplots()\n",
    "dft.plot(kind='line',x='N',y='ABAE',style='bs--', ax=ax)\n",
    "dft.plot(kind='line',x='N',y='Kmeans',style='rs--', ax=ax)\n",
    "dft.plot(kind='line',x='N',y='SA',style='gs--', ax=ax)\n",
    "dft.plot(kind='line',x='N',y='SACSA',style='cs--', ax=ax)\n",
    "plt.xlabel('Top N words')\n",
    "plt.ylabel('Coherence Score')\n",
    "plt.title('Aspect 10')\n",
    "plt.legend()\n",
    "plt.show()\n"
   ]
  },
  {
   "cell_type": "code",
   "execution_count": 11,
   "metadata": {},
   "outputs": [
    {
     "data": {
      "text/html": [
       "<div>\n",
       "<style scoped>\n",
       "    .dataframe tbody tr th:only-of-type {\n",
       "        vertical-align: middle;\n",
       "    }\n",
       "\n",
       "    .dataframe tbody tr th {\n",
       "        vertical-align: top;\n",
       "    }\n",
       "\n",
       "    .dataframe thead th {\n",
       "        text-align: right;\n",
       "    }\n",
       "</style>\n",
       "<table border=\"1\" class=\"dataframe\">\n",
       "  <thead>\n",
       "    <tr style=\"text-align: right;\">\n",
       "      <th></th>\n",
       "      <th>ABAE</th>\n",
       "      <th>Kmeans</th>\n",
       "      <th>SA</th>\n",
       "      <th>SACSA</th>\n",
       "      <th>N</th>\n",
       "    </tr>\n",
       "  </thead>\n",
       "  <tbody>\n",
       "    <tr>\n",
       "      <th>0</th>\n",
       "      <td>-330.221344</td>\n",
       "      <td>-337.941292</td>\n",
       "      <td>-318.123664</td>\n",
       "      <td>-322.053725</td>\n",
       "      <td>10</td>\n",
       "    </tr>\n",
       "    <tr>\n",
       "      <th>1</th>\n",
       "      <td>-1391.493973</td>\n",
       "      <td>-1432.481373</td>\n",
       "      <td>-1342.602913</td>\n",
       "      <td>-1364.901252</td>\n",
       "      <td>20</td>\n",
       "    </tr>\n",
       "    <tr>\n",
       "      <th>2</th>\n",
       "      <td>-3185.476592</td>\n",
       "      <td>-3286.717428</td>\n",
       "      <td>-3077.316419</td>\n",
       "      <td>-3128.721776</td>\n",
       "      <td>30</td>\n",
       "    </tr>\n",
       "    <tr>\n",
       "      <th>3</th>\n",
       "      <td>-5705.618345</td>\n",
       "      <td>-5909.787743</td>\n",
       "      <td>-5529.345797</td>\n",
       "      <td>-5608.479510</td>\n",
       "      <td>40</td>\n",
       "    </tr>\n",
       "    <tr>\n",
       "      <th>4</th>\n",
       "      <td>-8968.960786</td>\n",
       "      <td>-9293.808724</td>\n",
       "      <td>-8700.869889</td>\n",
       "      <td>-8806.501912</td>\n",
       "      <td>50</td>\n",
       "    </tr>\n",
       "  </tbody>\n",
       "</table>\n",
       "</div>"
      ],
      "text/plain": [
       "          ABAE       Kmeans           SA        SACSA   N\n",
       "0  -330.221344  -337.941292  -318.123664  -322.053725  10\n",
       "1 -1391.493973 -1432.481373 -1342.602913 -1364.901252  20\n",
       "2 -3185.476592 -3286.717428 -3077.316419 -3128.721776  30\n",
       "3 -5705.618345 -5909.787743 -5529.345797 -5608.479510  40\n",
       "4 -8968.960786 -9293.808724 -8700.869889 -8806.501912  50"
      ]
     },
     "execution_count": 11,
     "metadata": {},
     "output_type": "execute_result"
    }
   ],
   "source": [
    "df20=pd.DataFrame(K20)\n",
    "df20t=df20.T\n",
    "df20t.columns=Model\n",
    "df20t['N']=N\n",
    "df20t"
   ]
  },
  {
   "cell_type": "code",
   "execution_count": 12,
   "metadata": {},
   "outputs": [
    {
     "data": {
      "image/png": "[encoded data removed]",
      "text/plain": [
       "<Figure size 432x288 with 1 Axes>"
      ]
     },
     "metadata": {
      "needs_background": "light"
     },
     "output_type": "display_data"
    }
   ],
   "source": [
    "fig, ax = plt.subplots()\n",
    "df20t.plot(kind='line',x='N',y='ABAE',style='bs--', ax=ax)\n",
    "df20t.plot(kind='line',x='N',y='Kmeans',style='rs--', ax=ax)\n",
    "df20t.plot(kind='line',x='N',y='SA',style='gs--', ax=ax)\n",
    "df20t.plot(kind='line',x='N',y='SACSA',style='cs--', ax=ax)\n",
    "plt.xlabel('Top N words')\n",
    "plt.ylabel('Coherence Score')\n",
    "plt.title('Aspect 20')\n",
    "plt.legend()\n",
    "plt.show()\n"
   ]
  },
  {
   "cell_type": "code",
   "execution_count": 13,
   "metadata": {},
   "outputs": [
    {
     "data": {
      "text/html": [
       "<div>\n",
       "<style scoped>\n",
       "    .dataframe tbody tr th:only-of-type {\n",
       "        vertical-align: middle;\n",
       "    }\n",
       "\n",
       "    .dataframe tbody tr th {\n",
       "        vertical-align: top;\n",
       "    }\n",
       "\n",
       "    .dataframe thead th {\n",
       "        text-align: right;\n",
       "    }\n",
       "</style>\n",
       "<table border=\"1\" class=\"dataframe\">\n",
       "  <thead>\n",
       "    <tr style=\"text-align: right;\">\n",
       "      <th></th>\n",
       "      <th>ABAE</th>\n",
       "      <th>Kmeans</th>\n",
       "      <th>SA</th>\n",
       "      <th>SACSA</th>\n",
       "      <th>N</th>\n",
       "    </tr>\n",
       "  </thead>\n",
       "  <tbody>\n",
       "    <tr>\n",
       "      <th>0</th>\n",
       "      <td>-330.301055</td>\n",
       "      <td>-340.447945</td>\n",
       "      <td>-315.086260</td>\n",
       "      <td>-323.254528</td>\n",
       "      <td>10</td>\n",
       "    </tr>\n",
       "    <tr>\n",
       "      <th>1</th>\n",
       "      <td>-1401.497863</td>\n",
       "      <td>-1436.352586</td>\n",
       "      <td>-1354.822938</td>\n",
       "      <td>-1376.940766</td>\n",
       "      <td>20</td>\n",
       "    </tr>\n",
       "    <tr>\n",
       "      <th>2</th>\n",
       "      <td>-3211.611369</td>\n",
       "      <td>-3293.472955</td>\n",
       "      <td>-3109.300530</td>\n",
       "      <td>-3166.864198</td>\n",
       "      <td>30</td>\n",
       "    </tr>\n",
       "    <tr>\n",
       "      <th>3</th>\n",
       "      <td>-5747.891377</td>\n",
       "      <td>-5903.696019</td>\n",
       "      <td>-5593.461138</td>\n",
       "      <td>-5687.942296</td>\n",
       "      <td>40</td>\n",
       "    </tr>\n",
       "    <tr>\n",
       "      <th>4</th>\n",
       "      <td>-9014.331038</td>\n",
       "      <td>-9266.842684</td>\n",
       "      <td>-8781.032730</td>\n",
       "      <td>-8941.517573</td>\n",
       "      <td>50</td>\n",
       "    </tr>\n",
       "  </tbody>\n",
       "</table>\n",
       "</div>"
      ],
      "text/plain": [
       "          ABAE       Kmeans           SA        SACSA   N\n",
       "0  -330.301055  -340.447945  -315.086260  -323.254528  10\n",
       "1 -1401.497863 -1436.352586 -1354.822938 -1376.940766  20\n",
       "2 -3211.611369 -3293.472955 -3109.300530 -3166.864198  30\n",
       "3 -5747.891377 -5903.696019 -5593.461138 -5687.942296  40\n",
       "4 -9014.331038 -9266.842684 -8781.032730 -8941.517573  50"
      ]
     },
     "execution_count": 13,
     "metadata": {},
     "output_type": "execute_result"
    }
   ],
   "source": [
    "df30=pd.DataFrame(K30)\n",
    "df30t=df30.T\n",
    "df30t.columns=Model\n",
    "df30t['N']=N\n",
    "df30t"
   ]
  },
  {
   "cell_type": "code",
   "execution_count": 14,
   "metadata": {},
   "outputs": [
    {
     "data": {
      "image/png": "[encoded data removed]",
      "text/plain": [
       "<Figure size 432x288 with 1 Axes>"
      ]
     },
     "metadata": {
      "needs_background": "light"
     },
     "output_type": "display_data"
    }
   ],
   "source": [
    "fig, ax = plt.subplots()\n",
    "df30t.plot(kind='line',x='N',y='ABAE',style='bs--', ax=ax)\n",
    "df30t.plot(kind='line',x='N',y='Kmeans',style='rs--', ax=ax)\n",
    "df30t.plot(kind='line',x='N',y='SA',style='gs--', ax=ax)\n",
    "df30t.plot(kind='line',x='N',y='SACSA',style='cs--', ax=ax)\n",
    "plt.xlabel('Top N words')\n",
    "plt.ylabel('Coherence Score')\n",
    "plt.title('Aspect 30')\n",
    "plt.legend()\n",
    "plt.show()\n"
   ]
  },
  {
   "cell_type": "code",
   "execution_count": 15,
   "metadata": {},
   "outputs": [
    {
     "data": {
      "text/html": [
       "<div>\n",
       "<style scoped>\n",
       "    .dataframe tbody tr th:only-of-type {\n",
       "        vertical-align: middle;\n",
       "    }\n",
       "\n",
       "    .dataframe tbody tr th {\n",
       "        vertical-align: top;\n",
       "    }\n",
       "\n",
       "    .dataframe thead th {\n",
       "        text-align: right;\n",
       "    }\n",
       "</style>\n",
       "<table border=\"1\" class=\"dataframe\">\n",
       "  <thead>\n",
       "    <tr style=\"text-align: right;\">\n",
       "      <th></th>\n",
       "      <th>ABAE</th>\n",
       "      <th>Kmeans</th>\n",
       "      <th>SA</th>\n",
       "      <th>SACSA</th>\n",
       "      <th>N</th>\n",
       "    </tr>\n",
       "  </thead>\n",
       "  <tbody>\n",
       "    <tr>\n",
       "      <th>0</th>\n",
       "      <td>-328.181103</td>\n",
       "      <td>-342.439385</td>\n",
       "      <td>-320.975923</td>\n",
       "      <td>-326.039818</td>\n",
       "      <td>10</td>\n",
       "    </tr>\n",
       "    <tr>\n",
       "      <th>1</th>\n",
       "      <td>-1397.551970</td>\n",
       "      <td>-1445.478876</td>\n",
       "      <td>-1369.187480</td>\n",
       "      <td>-1389.575786</td>\n",
       "      <td>20</td>\n",
       "    </tr>\n",
       "    <tr>\n",
       "      <th>2</th>\n",
       "      <td>-3205.487437</td>\n",
       "      <td>-3313.872897</td>\n",
       "      <td>-3145.143023</td>\n",
       "      <td>-3186.905369</td>\n",
       "      <td>30</td>\n",
       "    </tr>\n",
       "    <tr>\n",
       "      <th>3</th>\n",
       "      <td>-5748.059027</td>\n",
       "      <td>-5942.696785</td>\n",
       "      <td>-5653.439064</td>\n",
       "      <td>-5705.520069</td>\n",
       "      <td>40</td>\n",
       "    </tr>\n",
       "    <tr>\n",
       "      <th>4</th>\n",
       "      <td>-9025.593990</td>\n",
       "      <td>-9335.648628</td>\n",
       "      <td>-8877.605769</td>\n",
       "      <td>-8956.977491</td>\n",
       "      <td>50</td>\n",
       "    </tr>\n",
       "  </tbody>\n",
       "</table>\n",
       "</div>"
      ],
      "text/plain": [
       "          ABAE       Kmeans           SA        SACSA   N\n",
       "0  -328.181103  -342.439385  -320.975923  -326.039818  10\n",
       "1 -1397.551970 -1445.478876 -1369.187480 -1389.575786  20\n",
       "2 -3205.487437 -3313.872897 -3145.143023 -3186.905369  30\n",
       "3 -5748.059027 -5942.696785 -5653.439064 -5705.520069  40\n",
       "4 -9025.593990 -9335.648628 -8877.605769 -8956.977491  50"
      ]
     },
     "execution_count": 15,
     "metadata": {},
     "output_type": "execute_result"
    }
   ],
   "source": [
    "df40=pd.DataFrame(K40)\n",
    "df40t=df40.T\n",
    "df40t.columns=Model\n",
    "df40t['N']=N\n",
    "df40t"
   ]
  },
  {
   "cell_type": "code",
   "execution_count": 16,
   "metadata": {},
   "outputs": [
    {
     "data": {
      "image/png": "[encoded data removed]",
      "text/plain": [
       "<Figure size 432x288 with 1 Axes>"
      ]
     },
     "metadata": {
      "needs_background": "light"
     },
     "output_type": "display_data"
    }
   ],
   "source": [
    "fig, ax = plt.subplots()\n",
    "df40t.plot(kind='line',x='N',y='ABAE',style='bs--', ax=ax)\n",
    "df40t.plot(kind='line',x='N',y='Kmeans',style='rs--', ax=ax)\n",
    "df40t.plot(kind='line',x='N',y='SA',style='gs--', ax=ax)\n",
    "df40t.plot(kind='line',x='N',y='SACSA',style='cs--', ax=ax)\n",
    "plt.xlabel('Top N words')\n",
    "plt.ylabel('Coherence Score')\n",
    "plt.title('Aspect 40')\n",
    "plt.legend()\n",
    "plt.show()"
   ]
  },
  {
   "cell_type": "code",
   "execution_count": 17,
   "metadata": {},
   "outputs": [
    {
     "data": {
      "text/html": [
       "<div>\n",
       "<style scoped>\n",
       "    .dataframe tbody tr th:only-of-type {\n",
       "        vertical-align: middle;\n",
       "    }\n",
       "\n",
       "    .dataframe tbody tr th {\n",
       "        vertical-align: top;\n",
       "    }\n",
       "\n",
       "    .dataframe thead th {\n",
       "        text-align: right;\n",
       "    }\n",
       "</style>\n",
       "<table border=\"1\" class=\"dataframe\">\n",
       "  <thead>\n",
       "    <tr style=\"text-align: right;\">\n",
       "      <th></th>\n",
       "      <th>ABAE</th>\n",
       "      <th>Kmeans</th>\n",
       "      <th>SA</th>\n",
       "      <th>SACSA</th>\n",
       "      <th>N</th>\n",
       "    </tr>\n",
       "  </thead>\n",
       "  <tbody>\n",
       "    <tr>\n",
       "      <th>0</th>\n",
       "      <td>-332.276041</td>\n",
       "      <td>-342.012422</td>\n",
       "      <td>-326.130862</td>\n",
       "      <td>-328.923430</td>\n",
       "      <td>10</td>\n",
       "    </tr>\n",
       "    <tr>\n",
       "      <th>1</th>\n",
       "      <td>-1404.195815</td>\n",
       "      <td>-1443.169995</td>\n",
       "      <td>-1379.891194</td>\n",
       "      <td>-1393.488879</td>\n",
       "      <td>20</td>\n",
       "    </tr>\n",
       "    <tr>\n",
       "      <th>2</th>\n",
       "      <td>-3214.549656</td>\n",
       "      <td>-3308.270229</td>\n",
       "      <td>-3158.227171</td>\n",
       "      <td>-3196.366030</td>\n",
       "      <td>30</td>\n",
       "    </tr>\n",
       "    <tr>\n",
       "      <th>3</th>\n",
       "      <td>-5758.930765</td>\n",
       "      <td>-5931.884061</td>\n",
       "      <td>-5662.407399</td>\n",
       "      <td>-5729.234151</td>\n",
       "      <td>40</td>\n",
       "    </tr>\n",
       "    <tr>\n",
       "      <th>4</th>\n",
       "      <td>-9034.509962</td>\n",
       "      <td>-9316.118000</td>\n",
       "      <td>-8900.457132</td>\n",
       "      <td>-9003.599376</td>\n",
       "      <td>50</td>\n",
       "    </tr>\n",
       "  </tbody>\n",
       "</table>\n",
       "</div>"
      ],
      "text/plain": [
       "          ABAE       Kmeans           SA        SACSA   N\n",
       "0  -332.276041  -342.012422  -326.130862  -328.923430  10\n",
       "1 -1404.195815 -1443.169995 -1379.891194 -1393.488879  20\n",
       "2 -3214.549656 -3308.270229 -3158.227171 -3196.366030  30\n",
       "3 -5758.930765 -5931.884061 -5662.407399 -5729.234151  40\n",
       "4 -9034.509962 -9316.118000 -8900.457132 -9003.599376  50"
      ]
     },
     "execution_count": 17,
     "metadata": {},
     "output_type": "execute_result"
    }
   ],
   "source": [
    "df50=pd.DataFrame(K50)\n",
    "df50t=df50.T\n",
    "df50t.columns=Model\n",
    "df50t['N']=N\n",
    "df50t"
   ]
  },
  {
   "cell_type": "code",
   "execution_count": 18,
   "metadata": {},
   "outputs": [
    {
     "data": {
      "image/png": "[encoded data removed]",
      "text/plain": [
       "<Figure size 432x288 with 1 Axes>"
      ]
     },
     "metadata": {
      "needs_background": "light"
     },
     "output_type": "display_data"
    }
   ],
   "source": [
    "fig, ax = plt.subplots()\n",
    "df50t.plot(kind='line',x='N',y='ABAE',style='bs--', ax=ax)\n",
    "df50t.plot(kind='line',x='N',y='Kmeans',style='rs--', ax=ax)\n",
    "df50t.plot(kind='line',x='N',y='SA',style='gs--', ax=ax)\n",
    "df50t.plot(kind='line',x='N',y='SACSA',style='cs--', ax=ax)\n",
    "plt.xlabel('Top N words')\n",
    "plt.ylabel('Coherence Score')\n",
    "plt.title('Aspect 50')\n",
    "plt.legend()\n",
    "plt.show()"
   ]
  },
  {
   "cell_type": "code",
   "execution_count": null,
   "metadata": {},
   "outputs": [],
   "source": []
  }
 ],
 "metadata": {
  "kernelspec": {
   "display_name": "keras_theano",
   "language": "python",
   "name": "keras_theano"
  },
  "language_info": {
   "codemirror_mode": {
    "name": "ipython",
    "version": 3
   },
   "file_extension": ".py",
   "mimetype": "text/x-python",
   "name": "python",
   "nbconvert_exporter": "python",
   "pygments_lexer": "ipython3",
   "version": "3.7.3"
  }
 },
 "nbformat": 4,
 "nbformat_minor": 4
}
