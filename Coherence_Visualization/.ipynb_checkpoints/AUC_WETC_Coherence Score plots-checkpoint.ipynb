{
 "cells": [
  {
   "cell_type": "code",
   "execution_count": 1,
   "metadata": {},
   "outputs": [],
   "source": [
    "ABAE={10: [0.5935544387797584, 0.2887757822105208, 0.1824264404384195, 0.13088313885858435, 0.1092144457438367],\n",
    "20: [0.9404018231984329, 0.3768374948543617, 0.2464076614964968, 0.18523006056836042, 0.1255213657296535],\n",
    "30: [0.9454324473976374, 0.42955661972926856, 0.22632225120082056, 0.1586447428624, 0.11895415783274414],\n",
    "40: [0.9711999758673441, 0.42612709618904115, 0.23288336620039493, 0.1518013279650818, 0.11770064023757806],\n",
    "50: [0.7866755459074491, 0.4210380614238934, 0.2081603279239281, 0.16356775651427147, 0.10656577593260241]}\n",
    "\n",
    "\n",
    "\n",
    "Kmeans={10: [0.6234946429848713, 0.2595275335212134, 0.17533100542659225, 0.127185639422508, 0.10517358538678298],\n",
    "20: [0.6047835502350811, 0.2511559546120604, 0.16394698270464253, 0.1157185925998945, 0.08409139437083281],\n",
    "30: [0.6619394705421716, 0.28144655285704323, 0.1657124245762021, 0.12416066742510234, 0.09296073272378982],\n",
    "40: [0.6769856434886726, 0.2633167193431679, 0.1655024988732813, 0.1142423352668677, 0.08733319699353638],\n",
    "50: [0.655855480487714, 0.2898335955494226, 0.16792091229285763, 0.12668729539107948, 0.09194818296668045]}\n",
    "\n",
    "\n",
    "\n",
    "SACSA={10: [0.7397058464039253, 0.3257147609185167, 0.24865198846954853, 0.17849245628443997, 0.11777087598044882],\n",
    "20: [0.9178215556126776, 0.3897895481973523, 0.2218202479853808, 0.19408409385689196, 0.11685483546175986],\n",
    "30: [0.9438365326075604, 0.3477703274530072, 0.2286315838850278, 0.1731461471198029, 0.12347766454205052],\n",
    "40: [0.9584933708771122, 0.39013487550060266, 0.21305262499597374, 0.16535002751532477, 0.11912196567434774],\n",
    "50: [0.9123940424286482, 0.3267634342931746, 0.17719261769478176, 0.13763630487018896, 0.10509337484767527]}\n",
    "\n",
    "\n",
    "\n",
    "SA={10: [0.7149774359660874, 0.3351722635320916, 0.18500098295107156, 0.18747856388592427, 0.09640917724362437],\n",
    "20: [1.0746845973232868, 0.4737222997703168, 0.27357971981097673, 0.1916061184621992, 0.15750834778693715],\n",
    "30: [0.9212103225230858, 0.45846989887148354, 0.26889530013714374, 0.18817037738792067, 0.14423822918779436],\n",
    "40: [1.1023584572645262, 0.4243026679713572, 0.2780845169808631, 0.2117566483101155, 0.13581013455138186],\n",
    "50: [0.9801165412338821, 0.4413442884157319, 0.27582543226789796, 0.1831282647023847, 0.13233491290455707]}"
   ]
  },
  {
   "cell_type": "markdown",
   "metadata": {},
   "source": [
    "## Area calculation for aspect-wise coherence scores for each model "
   ]
  },
  {
   "cell_type": "code",
   "execution_count": 2,
   "metadata": {},
   "outputs": [],
   "source": [
    "import pandas as pd"
   ]
  },
  {
   "cell_type": "code",
   "execution_count": 3,
   "metadata": {},
   "outputs": [],
   "source": [
    "K10=[list(d.values())[0] for d in [ABAE,Kmeans,SA,SACSA]]\n",
    "K20=[list(d.values())[1] for d in [ABAE,Kmeans,SA,SACSA]]\n",
    "K30=[list(d.values())[2] for d in [ABAE,Kmeans,SA,SACSA]]\n",
    "K40=[list(d.values())[3] for d in [ABAE,Kmeans,SA,SACSA]]\n",
    "K50=[list(d.values())[4] for d in [ABAE,Kmeans,SA,SACSA]]"
   ]
  },
  {
   "cell_type": "code",
   "execution_count": 4,
   "metadata": {},
   "outputs": [],
   "source": [
    "N=[10,20,30,40,50]\n",
    "Model=['ABAE','Kmeans','SA','SACSA']"
   ]
  },
  {
   "cell_type": "code",
   "execution_count": 5,
   "metadata": {},
   "outputs": [
    {
     "data": {
      "text/html": [
       "<div>\n",
       "<style scoped>\n",
       "    .dataframe tbody tr th:only-of-type {\n",
       "        vertical-align: middle;\n",
       "    }\n",
       "\n",
       "    .dataframe tbody tr th {\n",
       "        vertical-align: top;\n",
       "    }\n",
       "\n",
       "    .dataframe thead th {\n",
       "        text-align: right;\n",
       "    }\n",
       "</style>\n",
       "<table border=\"1\" class=\"dataframe\">\n",
       "  <thead>\n",
       "    <tr style=\"text-align: right;\">\n",
       "      <th></th>\n",
       "      <th>ABAE</th>\n",
       "      <th>Kmeans</th>\n",
       "      <th>SA</th>\n",
       "      <th>SACSA</th>\n",
       "      <th>N</th>\n",
       "    </tr>\n",
       "  </thead>\n",
       "  <tbody>\n",
       "    <tr>\n",
       "      <th>10</th>\n",
       "      <td>0.593554</td>\n",
       "      <td>0.623495</td>\n",
       "      <td>0.714977</td>\n",
       "      <td>0.739706</td>\n",
       "      <td>10</td>\n",
       "    </tr>\n",
       "    <tr>\n",
       "      <th>20</th>\n",
       "      <td>0.288776</td>\n",
       "      <td>0.259528</td>\n",
       "      <td>0.335172</td>\n",
       "      <td>0.325715</td>\n",
       "      <td>20</td>\n",
       "    </tr>\n",
       "    <tr>\n",
       "      <th>30</th>\n",
       "      <td>0.182426</td>\n",
       "      <td>0.175331</td>\n",
       "      <td>0.185001</td>\n",
       "      <td>0.248652</td>\n",
       "      <td>30</td>\n",
       "    </tr>\n",
       "    <tr>\n",
       "      <th>40</th>\n",
       "      <td>0.130883</td>\n",
       "      <td>0.127186</td>\n",
       "      <td>0.187479</td>\n",
       "      <td>0.178492</td>\n",
       "      <td>40</td>\n",
       "    </tr>\n",
       "    <tr>\n",
       "      <th>50</th>\n",
       "      <td>0.109214</td>\n",
       "      <td>0.105174</td>\n",
       "      <td>0.096409</td>\n",
       "      <td>0.117771</td>\n",
       "      <td>50</td>\n",
       "    </tr>\n",
       "  </tbody>\n",
       "</table>\n",
       "</div>"
      ],
      "text/plain": [
       "        ABAE    Kmeans        SA     SACSA   N\n",
       "10  0.593554  0.623495  0.714977  0.739706  10\n",
       "20  0.288776  0.259528  0.335172  0.325715  20\n",
       "30  0.182426  0.175331  0.185001  0.248652  30\n",
       "40  0.130883  0.127186  0.187479  0.178492  40\n",
       "50  0.109214  0.105174  0.096409  0.117771  50"
      ]
     },
     "execution_count": 5,
     "metadata": {},
     "output_type": "execute_result"
    }
   ],
   "source": [
    "df=pd.DataFrame(K10,columns=N)\n",
    "dft=df.T\n",
    "dft.columns=Model\n",
    "dft['N']=N\n",
    "dft"
   ]
  },
  {
   "cell_type": "code",
   "execution_count": 27,
   "metadata": {},
   "outputs": [
    {
     "data": {
      "text/plain": [
       "['ABAE', 'Kmeans', 'SA', 'SACSA', 'N']"
      ]
     },
     "execution_count": 27,
     "metadata": {},
     "output_type": "execute_result"
    }
   ],
   "source": [
    "list(dft.columns)"
   ]
  },
  {
   "cell_type": "code",
   "execution_count": 31,
   "metadata": {},
   "outputs": [
    {
     "name": "stdout",
     "output_type": "stream",
     "text": [
      "ABAE:  9.535\n",
      "Kmeans:  9.264\n",
      "SA:  11.133\n",
      "SACSA:  11.816\n",
      "N:  1200.0\n"
     ]
    }
   ],
   "source": [
    "from scipy.integrate import simps, trapz\n",
    "\n",
    "#Trapizium\n",
    "x = dft['N']\n",
    "for i in list(dft.columns):\n",
    "    y= dft[i]\n",
    "    area=np.round(trapz(y,x),3)\n",
    "    print(i+': ',area)\n",
    "#ax.fill_between(f(xstep), 0, xstep)"
   ]
  },
  {
   "cell_type": "code",
   "execution_count": 24,
   "metadata": {},
   "outputs": [
    {
     "data": {
      "image/png": "[encoded data removed]",
      "text/plain": [
       "<Figure size 432x288 with 1 Axes>"
      ]
     },
     "metadata": {
      "needs_background": "light"
     },
     "output_type": "display_data"
    }
   ],
   "source": [
    "import numpy as np\n",
    "import matplotlib.pyplot as plt\n",
    "import pandas as pd\n",
    "\n",
    "styles1 = ['bs-','ro-','y^-']\n",
    "styles2 = ['rs-','go-','b^-']\n",
    "fig, ax = plt.subplots()\n",
    "dft.plot(kind='line',x='N',y='ABAE',style='bs--', ax=ax)\n",
    "dft.plot(kind='line',x='N',y='Kmeans',style='rs--', ax=ax)\n",
    "dft.plot(kind='line',x='N',y='SA',style='gs--', ax=ax)\n",
    "dft.plot(kind='line',x='N',y='SACSA',style='cs--', ax=ax)\n",
    "x = dft['N']\n",
    "y= dft['ABAE']\n",
    "plt.fill_between(x,y,alpha=0.2)\n",
    "plt.xlabel('Top N words')\n",
    "plt.ylabel('Coherence Score')\n",
    "plt.title('Aspect 10')\n",
    "plt.legend()\n",
    "plt.show()\n"
   ]
  },
  {
   "cell_type": "code",
   "execution_count": 32,
   "metadata": {},
   "outputs": [
    {
     "data": {
      "text/html": [
       "<div>\n",
       "<style scoped>\n",
       "    .dataframe tbody tr th:only-of-type {\n",
       "        vertical-align: middle;\n",
       "    }\n",
       "\n",
       "    .dataframe tbody tr th {\n",
       "        vertical-align: top;\n",
       "    }\n",
       "\n",
       "    .dataframe thead th {\n",
       "        text-align: right;\n",
       "    }\n",
       "</style>\n",
       "<table border=\"1\" class=\"dataframe\">\n",
       "  <thead>\n",
       "    <tr style=\"text-align: right;\">\n",
       "      <th></th>\n",
       "      <th>ABAE</th>\n",
       "      <th>Kmeans</th>\n",
       "      <th>SA</th>\n",
       "      <th>SACSA</th>\n",
       "      <th>N</th>\n",
       "    </tr>\n",
       "  </thead>\n",
       "  <tbody>\n",
       "    <tr>\n",
       "      <th>0</th>\n",
       "      <td>0.940402</td>\n",
       "      <td>0.604784</td>\n",
       "      <td>1.074685</td>\n",
       "      <td>0.917822</td>\n",
       "      <td>10</td>\n",
       "    </tr>\n",
       "    <tr>\n",
       "      <th>1</th>\n",
       "      <td>0.376837</td>\n",
       "      <td>0.251156</td>\n",
       "      <td>0.473722</td>\n",
       "      <td>0.389790</td>\n",
       "      <td>20</td>\n",
       "    </tr>\n",
       "    <tr>\n",
       "      <th>2</th>\n",
       "      <td>0.246408</td>\n",
       "      <td>0.163947</td>\n",
       "      <td>0.273580</td>\n",
       "      <td>0.221820</td>\n",
       "      <td>30</td>\n",
       "    </tr>\n",
       "    <tr>\n",
       "      <th>3</th>\n",
       "      <td>0.185230</td>\n",
       "      <td>0.115719</td>\n",
       "      <td>0.191606</td>\n",
       "      <td>0.194084</td>\n",
       "      <td>40</td>\n",
       "    </tr>\n",
       "    <tr>\n",
       "      <th>4</th>\n",
       "      <td>0.125521</td>\n",
       "      <td>0.084091</td>\n",
       "      <td>0.157508</td>\n",
       "      <td>0.116855</td>\n",
       "      <td>50</td>\n",
       "    </tr>\n",
       "  </tbody>\n",
       "</table>\n",
       "</div>"
      ],
      "text/plain": [
       "       ABAE    Kmeans        SA     SACSA   N\n",
       "0  0.940402  0.604784  1.074685  0.917822  10\n",
       "1  0.376837  0.251156  0.473722  0.389790  20\n",
       "2  0.246408  0.163947  0.273580  0.221820  30\n",
       "3  0.185230  0.115719  0.191606  0.194084  40\n",
       "4  0.125521  0.084091  0.157508  0.116855  50"
      ]
     },
     "execution_count": 32,
     "metadata": {},
     "output_type": "execute_result"
    }
   ],
   "source": [
    "df20=pd.DataFrame(K20)\n",
    "df20t=df20.T\n",
    "df20t.columns=Model\n",
    "df20t['N']=N\n",
    "df20t"
   ]
  },
  {
   "cell_type": "code",
   "execution_count": 33,
   "metadata": {},
   "outputs": [
    {
     "data": {
      "text/html": [
       "<div>\n",
       "<style scoped>\n",
       "    .dataframe tbody tr th:only-of-type {\n",
       "        vertical-align: middle;\n",
       "    }\n",
       "\n",
       "    .dataframe tbody tr th {\n",
       "        vertical-align: top;\n",
       "    }\n",
       "\n",
       "    .dataframe thead th {\n",
       "        text-align: right;\n",
       "    }\n",
       "</style>\n",
       "<table border=\"1\" class=\"dataframe\">\n",
       "  <thead>\n",
       "    <tr style=\"text-align: right;\">\n",
       "      <th></th>\n",
       "      <th>ABAE</th>\n",
       "      <th>Kmeans</th>\n",
       "      <th>SA</th>\n",
       "      <th>SACSA</th>\n",
       "      <th>N</th>\n",
       "    </tr>\n",
       "  </thead>\n",
       "  <tbody>\n",
       "    <tr>\n",
       "      <th>0</th>\n",
       "      <td>0.945432</td>\n",
       "      <td>0.661939</td>\n",
       "      <td>0.921210</td>\n",
       "      <td>0.943837</td>\n",
       "      <td>10</td>\n",
       "    </tr>\n",
       "    <tr>\n",
       "      <th>1</th>\n",
       "      <td>0.429557</td>\n",
       "      <td>0.281447</td>\n",
       "      <td>0.458470</td>\n",
       "      <td>0.347770</td>\n",
       "      <td>20</td>\n",
       "    </tr>\n",
       "    <tr>\n",
       "      <th>2</th>\n",
       "      <td>0.226322</td>\n",
       "      <td>0.165712</td>\n",
       "      <td>0.268895</td>\n",
       "      <td>0.228632</td>\n",
       "      <td>30</td>\n",
       "    </tr>\n",
       "    <tr>\n",
       "      <th>3</th>\n",
       "      <td>0.158645</td>\n",
       "      <td>0.124161</td>\n",
       "      <td>0.188170</td>\n",
       "      <td>0.173146</td>\n",
       "      <td>40</td>\n",
       "    </tr>\n",
       "    <tr>\n",
       "      <th>4</th>\n",
       "      <td>0.118954</td>\n",
       "      <td>0.092961</td>\n",
       "      <td>0.144238</td>\n",
       "      <td>0.123478</td>\n",
       "      <td>50</td>\n",
       "    </tr>\n",
       "  </tbody>\n",
       "</table>\n",
       "</div>"
      ],
      "text/plain": [
       "       ABAE    Kmeans        SA     SACSA   N\n",
       "0  0.945432  0.661939  0.921210  0.943837  10\n",
       "1  0.429557  0.281447  0.458470  0.347770  20\n",
       "2  0.226322  0.165712  0.268895  0.228632  30\n",
       "3  0.158645  0.124161  0.188170  0.173146  40\n",
       "4  0.118954  0.092961  0.144238  0.123478  50"
      ]
     },
     "execution_count": 33,
     "metadata": {},
     "output_type": "execute_result"
    }
   ],
   "source": [
    "df30=pd.DataFrame(K30)\n",
    "df30t=df30.T\n",
    "df30t.columns=Model\n",
    "df30t['N']=N\n",
    "df30t"
   ]
  },
  {
   "cell_type": "code",
   "execution_count": 34,
   "metadata": {},
   "outputs": [
    {
     "data": {
      "text/html": [
       "<div>\n",
       "<style scoped>\n",
       "    .dataframe tbody tr th:only-of-type {\n",
       "        vertical-align: middle;\n",
       "    }\n",
       "\n",
       "    .dataframe tbody tr th {\n",
       "        vertical-align: top;\n",
       "    }\n",
       "\n",
       "    .dataframe thead th {\n",
       "        text-align: right;\n",
       "    }\n",
       "</style>\n",
       "<table border=\"1\" class=\"dataframe\">\n",
       "  <thead>\n",
       "    <tr style=\"text-align: right;\">\n",
       "      <th></th>\n",
       "      <th>ABAE</th>\n",
       "      <th>Kmeans</th>\n",
       "      <th>SA</th>\n",
       "      <th>SACSA</th>\n",
       "      <th>N</th>\n",
       "    </tr>\n",
       "  </thead>\n",
       "  <tbody>\n",
       "    <tr>\n",
       "      <th>0</th>\n",
       "      <td>0.971200</td>\n",
       "      <td>0.676986</td>\n",
       "      <td>1.102358</td>\n",
       "      <td>0.958493</td>\n",
       "      <td>10</td>\n",
       "    </tr>\n",
       "    <tr>\n",
       "      <th>1</th>\n",
       "      <td>0.426127</td>\n",
       "      <td>0.263317</td>\n",
       "      <td>0.424303</td>\n",
       "      <td>0.390135</td>\n",
       "      <td>20</td>\n",
       "    </tr>\n",
       "    <tr>\n",
       "      <th>2</th>\n",
       "      <td>0.232883</td>\n",
       "      <td>0.165502</td>\n",
       "      <td>0.278085</td>\n",
       "      <td>0.213053</td>\n",
       "      <td>30</td>\n",
       "    </tr>\n",
       "    <tr>\n",
       "      <th>3</th>\n",
       "      <td>0.151801</td>\n",
       "      <td>0.114242</td>\n",
       "      <td>0.211757</td>\n",
       "      <td>0.165350</td>\n",
       "      <td>40</td>\n",
       "    </tr>\n",
       "    <tr>\n",
       "      <th>4</th>\n",
       "      <td>0.117701</td>\n",
       "      <td>0.087333</td>\n",
       "      <td>0.135810</td>\n",
       "      <td>0.119122</td>\n",
       "      <td>50</td>\n",
       "    </tr>\n",
       "  </tbody>\n",
       "</table>\n",
       "</div>"
      ],
      "text/plain": [
       "       ABAE    Kmeans        SA     SACSA   N\n",
       "0  0.971200  0.676986  1.102358  0.958493  10\n",
       "1  0.426127  0.263317  0.424303  0.390135  20\n",
       "2  0.232883  0.165502  0.278085  0.213053  30\n",
       "3  0.151801  0.114242  0.211757  0.165350  40\n",
       "4  0.117701  0.087333  0.135810  0.119122  50"
      ]
     },
     "execution_count": 34,
     "metadata": {},
     "output_type": "execute_result"
    }
   ],
   "source": [
    "df40=pd.DataFrame(K40)\n",
    "df40t=df40.T\n",
    "df40t.columns=Model\n",
    "df40t['N']=N\n",
    "df40t"
   ]
  },
  {
   "cell_type": "code",
   "execution_count": 35,
   "metadata": {},
   "outputs": [
    {
     "data": {
      "text/html": [
       "<div>\n",
       "<style scoped>\n",
       "    .dataframe tbody tr th:only-of-type {\n",
       "        vertical-align: middle;\n",
       "    }\n",
       "\n",
       "    .dataframe tbody tr th {\n",
       "        vertical-align: top;\n",
       "    }\n",
       "\n",
       "    .dataframe thead th {\n",
       "        text-align: right;\n",
       "    }\n",
       "</style>\n",
       "<table border=\"1\" class=\"dataframe\">\n",
       "  <thead>\n",
       "    <tr style=\"text-align: right;\">\n",
       "      <th></th>\n",
       "      <th>ABAE</th>\n",
       "      <th>Kmeans</th>\n",
       "      <th>SA</th>\n",
       "      <th>SACSA</th>\n",
       "      <th>N</th>\n",
       "    </tr>\n",
       "  </thead>\n",
       "  <tbody>\n",
       "    <tr>\n",
       "      <th>0</th>\n",
       "      <td>0.786676</td>\n",
       "      <td>0.655855</td>\n",
       "      <td>0.980117</td>\n",
       "      <td>0.912394</td>\n",
       "      <td>10</td>\n",
       "    </tr>\n",
       "    <tr>\n",
       "      <th>1</th>\n",
       "      <td>0.421038</td>\n",
       "      <td>0.289834</td>\n",
       "      <td>0.441344</td>\n",
       "      <td>0.326763</td>\n",
       "      <td>20</td>\n",
       "    </tr>\n",
       "    <tr>\n",
       "      <th>2</th>\n",
       "      <td>0.208160</td>\n",
       "      <td>0.167921</td>\n",
       "      <td>0.275825</td>\n",
       "      <td>0.177193</td>\n",
       "      <td>30</td>\n",
       "    </tr>\n",
       "    <tr>\n",
       "      <th>3</th>\n",
       "      <td>0.163568</td>\n",
       "      <td>0.126687</td>\n",
       "      <td>0.183128</td>\n",
       "      <td>0.137636</td>\n",
       "      <td>40</td>\n",
       "    </tr>\n",
       "    <tr>\n",
       "      <th>4</th>\n",
       "      <td>0.106566</td>\n",
       "      <td>0.091948</td>\n",
       "      <td>0.132335</td>\n",
       "      <td>0.105093</td>\n",
       "      <td>50</td>\n",
       "    </tr>\n",
       "  </tbody>\n",
       "</table>\n",
       "</div>"
      ],
      "text/plain": [
       "       ABAE    Kmeans        SA     SACSA   N\n",
       "0  0.786676  0.655855  0.980117  0.912394  10\n",
       "1  0.421038  0.289834  0.441344  0.326763  20\n",
       "2  0.208160  0.167921  0.275825  0.177193  30\n",
       "3  0.163568  0.126687  0.183128  0.137636  40\n",
       "4  0.106566  0.091948  0.132335  0.105093  50"
      ]
     },
     "execution_count": 35,
     "metadata": {},
     "output_type": "execute_result"
    }
   ],
   "source": [
    "df50=pd.DataFrame(K50)\n",
    "df50t=df50.T\n",
    "df50t.columns=Model\n",
    "df50t['N']=N\n",
    "df50t"
   ]
  },
  {
   "cell_type": "code",
   "execution_count": 37,
   "metadata": {},
   "outputs": [],
   "source": [
    "dflist=[df20t,df30t,df40t,df50t]"
   ]
  },
  {
   "cell_type": "code",
   "execution_count": 47,
   "metadata": {},
   "outputs": [],
   "source": [
    "for i in dflist:\n",
    "    i.name=str(i)"
   ]
  },
  {
   "cell_type": "code",
   "execution_count": 51,
   "metadata": {},
   "outputs": [
    {
     "name": "stdout",
     "output_type": "stream",
     "text": [
      "ABAE:  13.414\n",
      "Kmeans:  8.753\n",
      "SA:  15.55\n",
      "SACSA:  13.23\n",
      "N:  1200.0\n",
      "ABAE:  13.467\n",
      "Kmeans:  9.488\n",
      "SA:  14.483\n",
      "SACSA:  12.832\n",
      "N:  1200.0\n",
      "ABAE:  13.553\n",
      "Kmeans:  9.252\n",
      "SA:  15.332\n",
      "SACSA:  13.073\n",
      "N:  1200.0\n",
      "ABAE:  12.394\n",
      "Kmeans:  9.583\n",
      "SA:  14.565\n",
      "SACSA:  11.503\n",
      "N:  1200.0\n"
     ]
    }
   ],
   "source": [
    "from scipy.integrate import simps, trapz\n",
    "for d in dflist:\n",
    "    #Trapizium\n",
    "    x = d['N']\n",
    "    for i in list(d.columns):\n",
    "        y= d[i]\n",
    "        area=np.round(trapz(y,x),3)\n",
    "        print(i+': ',area)\n",
    "#ax.fill_between(f(xstep), 0, xstep)"
   ]
  },
  {
   "cell_type": "markdown",
   "metadata": {},
   "source": [
    "## Area calculation for model-wise coherence scores for each aspect "
   ]
  },
  {
   "cell_type": "code",
   "execution_count": 52,
   "metadata": {},
   "outputs": [
    {
     "data": {
      "text/html": [
       "<div>\n",
       "<style scoped>\n",
       "    .dataframe tbody tr th:only-of-type {\n",
       "        vertical-align: middle;\n",
       "    }\n",
       "\n",
       "    .dataframe tbody tr th {\n",
       "        vertical-align: top;\n",
       "    }\n",
       "\n",
       "    .dataframe thead th {\n",
       "        text-align: right;\n",
       "    }\n",
       "</style>\n",
       "<table border=\"1\" class=\"dataframe\">\n",
       "  <thead>\n",
       "    <tr style=\"text-align: right;\">\n",
       "      <th></th>\n",
       "      <th>10</th>\n",
       "      <th>20</th>\n",
       "      <th>30</th>\n",
       "      <th>40</th>\n",
       "      <th>50</th>\n",
       "      <th>N</th>\n",
       "    </tr>\n",
       "  </thead>\n",
       "  <tbody>\n",
       "    <tr>\n",
       "      <th>0</th>\n",
       "      <td>0.593554</td>\n",
       "      <td>0.940402</td>\n",
       "      <td>0.945432</td>\n",
       "      <td>0.971200</td>\n",
       "      <td>0.786676</td>\n",
       "      <td>10</td>\n",
       "    </tr>\n",
       "    <tr>\n",
       "      <th>1</th>\n",
       "      <td>0.288776</td>\n",
       "      <td>0.376837</td>\n",
       "      <td>0.429557</td>\n",
       "      <td>0.426127</td>\n",
       "      <td>0.421038</td>\n",
       "      <td>20</td>\n",
       "    </tr>\n",
       "    <tr>\n",
       "      <th>2</th>\n",
       "      <td>0.182426</td>\n",
       "      <td>0.246408</td>\n",
       "      <td>0.226322</td>\n",
       "      <td>0.232883</td>\n",
       "      <td>0.208160</td>\n",
       "      <td>30</td>\n",
       "    </tr>\n",
       "    <tr>\n",
       "      <th>3</th>\n",
       "      <td>0.130883</td>\n",
       "      <td>0.185230</td>\n",
       "      <td>0.158645</td>\n",
       "      <td>0.151801</td>\n",
       "      <td>0.163568</td>\n",
       "      <td>40</td>\n",
       "    </tr>\n",
       "    <tr>\n",
       "      <th>4</th>\n",
       "      <td>0.109214</td>\n",
       "      <td>0.125521</td>\n",
       "      <td>0.118954</td>\n",
       "      <td>0.117701</td>\n",
       "      <td>0.106566</td>\n",
       "      <td>50</td>\n",
       "    </tr>\n",
       "  </tbody>\n",
       "</table>\n",
       "</div>"
      ],
      "text/plain": [
       "         10        20        30        40        50   N\n",
       "0  0.593554  0.940402  0.945432  0.971200  0.786676  10\n",
       "1  0.288776  0.376837  0.429557  0.426127  0.421038  20\n",
       "2  0.182426  0.246408  0.226322  0.232883  0.208160  30\n",
       "3  0.130883  0.185230  0.158645  0.151801  0.163568  40\n",
       "4  0.109214  0.125521  0.118954  0.117701  0.106566  50"
      ]
     },
     "execution_count": 52,
     "metadata": {},
     "output_type": "execute_result"
    }
   ],
   "source": [
    "abaedf=pd.DataFrame(ABAE)\n",
    "#abaedft=abaedf.T\n",
    "abaedf.columns=list(ABAE.keys())\n",
    "abaedf['N']=N\n",
    "abaedf"
   ]
  },
  {
   "cell_type": "code",
   "execution_count": 54,
   "metadata": {},
   "outputs": [
    {
     "name": "stdout",
     "output_type": "stream",
     "text": [
      "10:  9.535\n",
      "20:  13.414\n",
      "30:  13.467\n",
      "40:  13.553\n",
      "50:  12.394\n",
      "N:  1200.0\n"
     ]
    }
   ],
   "source": [
    "d=abaedf\n",
    "x = d['N']\n",
    "for i in list(d.columns):\n",
    "    y= d[i]\n",
    "    area=np.round(trapz(y,x),3)\n",
    "    print(str(i)+': ',area)\n",
    "#ax.fill_between(f(xstep), 0, xstep)"
   ]
  },
  {
   "cell_type": "markdown",
   "metadata": {},
   "source": [
    "### area of ABAE coherence score curve for each aspect is same as area of coherence curve for aspect 10 for ABAE model shown above. Hence not calculating separately."
   ]
  }
 ],
 "metadata": {
  "kernelspec": {
   "display_name": "keras_theano",
   "language": "python",
   "name": "keras_theano"
  },
  "language_info": {
   "codemirror_mode": {
    "name": "ipython",
    "version": 3
   },
   "file_extension": ".py",
   "mimetype": "text/x-python",
   "name": "python",
   "nbconvert_exporter": "python",
   "pygments_lexer": "ipython3",
   "version": "3.7.3"
  }
 },
 "nbformat": 4,
 "nbformat_minor": 4
}
