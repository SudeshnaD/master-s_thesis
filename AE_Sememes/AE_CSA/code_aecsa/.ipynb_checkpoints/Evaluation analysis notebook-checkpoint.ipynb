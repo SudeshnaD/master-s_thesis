{
 "cells": [
  {
   "cell_type": "code",
   "execution_count": 1,
   "metadata": {},
   "outputs": [
    {
     "name": "stderr",
     "output_type": "stream",
     "text": [
      "Using TensorFlow backend.\n"
     ]
    }
   ],
   "source": [
    "import numpy as np\n",
    "np.set_printoptions(threshold=np.inf)\n",
    "import pandas as pd\n",
    "from keras.models import load_model\n",
    "from tqdm import tqdm\n",
    "from sklearn.metrics import classification_report,precision_score,confusion_matrix\n",
    "import keras.backend as K\n",
    "from keras.preprocessing import sequence\n",
    "\n",
    "import utils as U\n",
    "import reader as dataset\n",
    "from my_layers import SememeAttention, Attention, Average, WeightedSum, WeightedAspectEmb, MaxMargin\n",
    "\n",
    "import pickle"
   ]
  },
  {
   "cell_type": "code",
   "execution_count": 2,
   "metadata": {},
   "outputs": [],
   "source": [
    "with open('aspect_probs.pkl', 'rb') as f:\n",
    "    aspect_probs=pickle.load(f)"
   ]
  },
  {
   "cell_type": "code",
   "execution_count": 59,
   "metadata": {},
   "outputs": [],
   "source": [
    "cluster_map={0: 'multicultural', 1: 'general', 2: 'general', 3:'general', 4: 'general', 5:'general', 6: 'price', \n",
    "7: 'touristy', 8: 'safety', 9:'general', 10: 'general', 11: 'touristy', 12: 'shopping', 13: 'general', 14: 'general', 15: 'multicultural',\n",
    "16: 'multicultural', 17: 'touristy', 18: 'general', 19: 'general', 20: 'nightlife', 21:'general', 22: 'general', 23: 'general', 24:'general', 25: 'general', \n",
    "26: 'multicultural', 27: 'general', 28: 'price', 29: 'general', 30: 'general', 31: 'general', 32: 'general', 33: 'general', 34: 'general', 35: 'touristy', 36: 'general',\n",
    "37: 'shopping', 38: 'general', 39: 'general', 40: 'price', 41:  'multicultural', 42: 'general', 43: 'price', 44: 'general', 45: 'general', 46: 'general', 47: 'touristy',\n",
    "48: 'general', 49: 'general'}"
   ]
  },
  {
   "cell_type": "code",
   "execution_count": 64,
   "metadata": {},
   "outputs": [
    {
     "data": {
      "text/plain": [
       "(32, 50)"
      ]
     },
     "execution_count": 64,
     "metadata": {},
     "output_type": "execute_result"
    }
   ],
   "source": [
    "aspect_probs.shape"
   ]
  },
  {
   "cell_type": "code",
   "execution_count": 66,
   "metadata": {},
   "outputs": [
    {
     "data": {
      "text/plain": [
       "(32, 32, 69)"
      ]
     },
     "execution_count": 66,
     "metadata": {},
     "output_type": "execute_result"
    }
   ],
   "source": [
    "x=np.random.rand(32,32,69)\n",
    "x.shape"
   ]
  },
  {
   "cell_type": "code",
   "execution_count": 67,
   "metadata": {},
   "outputs": [
    {
     "data": {
      "text/plain": [
       "(1024, 69)"
      ]
     },
     "execution_count": 67,
     "metadata": {},
     "output_type": "execute_result"
    }
   ],
   "source": [
    "np.concatenate(x).shape"
   ]
  },
  {
   "cell_type": "code",
   "execution_count": null,
   "metadata": {},
   "outputs": [],
   "source": [
    "x=np.random.rand(32,69,100)\n",
    "aw=model.get_layer('att_weights').W"
   ]
  },
  {
   "cell_type": "code",
   "execution_count": null,
   "metadata": {},
   "outputs": [],
   "source": [
    "ws=WeightedSum({x, aw})"
   ]
  }
 ],
 "metadata": {
  "kernelspec": {
   "display_name": "keras_theano",
   "language": "python",
   "name": "keras_theano"
  },
  "language_info": {
   "codemirror_mode": {
    "name": "ipython",
    "version": 3
   },
   "file_extension": ".py",
   "mimetype": "text/x-python",
   "name": "python",
   "nbconvert_exporter": "python",
   "pygments_lexer": "ipython3",
   "version": "3.7.3"
  }
 },
 "nbformat": 4,
 "nbformat_minor": 4
}
